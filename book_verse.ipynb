{
 "cells": [
  {
   "cell_type": "code",
   "execution_count": null,
   "metadata": {},
   "outputs": [],
   "source": [
    "# Imports\n",
    "\n",
    "import getpass\n",
    "\n",
    "\n",
    "from langchain_community.document_loaders import PyPDFLoader"
   ]
  },
  {
   "cell_type": "code",
   "execution_count": null,
   "metadata": {},
   "outputs": [],
   "source": [
    "import numpy"
   ]
  },
  {
   "cell_type": "code",
   "execution_count": 3,
   "metadata": {},
   "outputs": [],
   "source": [
    "file_path = \"FAI-Project-Proposal.pdf\""
   ]
  },
  {
   "cell_type": "code",
   "execution_count": 4,
   "metadata": {},
   "outputs": [],
   "source": [
    "loader = PyPDFLoader(file_path)\n",
    "pages = []\n",
    "async for page  in loader.alazy_load():\n",
    "    pages.append(page)"
   ]
  },
  {
   "cell_type": "code",
   "execution_count": 7,
   "metadata": {},
   "outputs": [
    {
     "name": "stdout",
     "output_type": "stream",
     "text": [
      "{'source': 'FAI-Project-Proposal.pdf', 'page': 0}\n",
      "\n",
      "Project Idea: \n",
      "We propose to develop an AI-driven application that generates concise, genre-specific \n",
      "audio summaries of books. Users can upload a PDF of a book (or potentially access books \n",
      "via an API), and our system will provide an engaging summary narrated in a tone that \n",
      "matches the book's genre. \n",
      " \n",
      "Problem We Are Solving: \n",
      "With an overwhelming number of books available, readers often struggle to decide which \n",
      "ones are worth their time. Traditional summaries may not capture the unique tone and \n",
      "style of different genres, making it difficult for readers to gauge their interest. Additionally, \n",
      "individuals with visual impairments or reading difficulties face challenges accessing \n",
      "written content. Our project addresses these issues by offering accessible audio \n",
      "summaries that are tailored to the book's genre, helping users make informed reading \n",
      "choices and enhancing their overall experience. \n",
      " \n",
      "Methodology: \n",
      "1. Book Genre Classifier: \n",
      "a. Data Acquisition: Utilize a dataset from Kaggle containing books labeled by \n",
      "genre to train our model. \n",
      "b. Model Development: Develop a machine learning model capable of \n",
      "predicting the genre of a book based on its content. \n",
      "c. Training and Validation: Split the dataset into training and validation sets to \n",
      "optimize the model's performance. \n",
      "2. Book Acquisition: \n",
      "a. User Uploads: Allow users to upload a PDF of the book directly into the \n",
      "application. \n",
      "b. API Integration (Optional): Consider integrating an API to fetch books based \n",
      "on user input (this aspect is pending finalization). \n",
      "3. Genre Prediction: \n",
      "a. Text Extraction: Extract text from the uploaded PDF using reliable text \n",
      "extraction tools. \n"
     ]
    }
   ],
   "source": [
    "print(f\"{pages[0].metadata}\\n\")\n",
    "print(pages[0].page_content)"
   ]
  },
  {
   "cell_type": "code",
   "execution_count": null,
   "metadata": {},
   "outputs": [],
   "source": []
  },
  {
   "cell_type": "code",
   "execution_count": null,
   "metadata": {},
   "outputs": [],
   "source": []
  },
  {
   "cell_type": "code",
   "execution_count": null,
   "metadata": {},
   "outputs": [],
   "source": []
  }
 ],
 "metadata": {
  "kernelspec": {
   "display_name": "py",
   "language": "python",
   "name": "python3"
  },
  "language_info": {
   "codemirror_mode": {
    "name": "ipython",
    "version": 3
   },
   "file_extension": ".py",
   "mimetype": "text/x-python",
   "name": "python",
   "nbconvert_exporter": "python",
   "pygments_lexer": "ipython3",
   "version": "3.10.0"
  }
 },
 "nbformat": 4,
 "nbformat_minor": 2
}
